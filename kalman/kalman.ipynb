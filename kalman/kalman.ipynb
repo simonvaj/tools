{
 "cells": [
  {
   "cell_type": "markdown",
   "metadata": {},
   "source": [
    "## Kalman vectors and matrices with dimensions\n",
    "\n",
    "| Name                          | Symbol                         | Dimensions    | Notes |\n",
    "| :---------------------------- |:------------------------------:|:-------------:|-------|\n",
    "| state                         | $$\\mathbf{x}$$                 | $$n\\times 1$$ | |\n",
    "| input                         | $$\\mathbf{u}$$                 | $$p\\times 1$$ | control input |\n",
    "| output                        | $$\\mathbf{z}$$                 | $$m\\times 1$$ | measurements, observation |\n",
    "| state gain                    | $$\\mathbf{A}$$, $$\\mathbf{F}$$ | $$n\\times n$$ | state-transition model |\n",
    "| input gain                    | $$\\mathbf{B}$$                 | $$n\\times p$$ | control-input model |\n",
    "| output gain                   | $$\\mathbf{H}$$                 | $$m\\times n$$ | observation model |\n",
    "| process noise                 | $$\\mathbf{w}$$                 | $$n\\times 1$$ | dynamic noise |\n",
    "| process noise covariance      | $$\\mathbf{Q}$$                 | $$n\\times n$$ | |\n",
    "| measurement noise             | $$\\mathbf{v}$$                 | $$m\\times 1$$ | |\n",
    "| measurement noise covariance  | $$\\mathbf{R}$$                 | $$m\\times m$$ | |\n",
    "| _a priori_ covariance         | $$\\mathbf{P}^-$$               | $$n\\times n$$ | state estimation error covariance |\n",
    "| _a posteriori_ covariance     | $$\\mathbf{P}$$                 | $$n\\times n$$ | |\n",
    "| Kalman filter gain            | $$\\mathbf{K}$$                 | $$n\\times m$$ | |\n",
    "| innovation process            | $$\\mathbf{\\tilde{y}}$$, $$\\alpha$$ | $$m\\times 1$$ | |\n",
    "| innovation process covariance | $$\\mathbf{S}$$                 | $$m\\times m$$ | |"
   ]
  },
  {
   "cell_type": "markdown",
   "metadata": {},
   "source": [
    "## Kalman filter equations\n",
    "\n",
    "$$\\begin{align}\n",
    "\\mathbf{x}_j &= \\mathbf{A}\\mathbf{x}_{j - 1} +\n",
    "    \\mathbf{B} \\mathbf{u}_j + \\mathbf{w}_j,\\nonumber\\\\\n",
    "\\mathbf{z}_j &=\n",
    "\\mathbf{H}_j\\mathbf{x}_{j} + \\mathbf{v}_j\\nonumber\\\\\n",
    "\\mathbf{P}_j &=\n",
    "\\mathrm{E}\\big[\\big(\\mathbf{x}_j - \\mathbf{\\hat{x}}_j\\big)\n",
    "    \\big(\\mathbf{x}_j - \\mathbf{\\hat{x}}_j\\big)^{\\mathrm{T}}\\big]\\nonumber\n",
    "\\end{align}$$"
   ]
  },
  {
   "cell_type": "markdown",
   "metadata": {},
   "source": [
    "### Prediction step\n",
    "\n",
    "$$\\begin{align}\n",
    "\\mathbf{\\hat{x}}_j^- &=\n",
    "    \\mathbf{A} \\mathbf{\\hat{x}}_{j-1} + \\mathbf{B} \\mathbf{u}_j\\nonumber\\\\\n",
    "\\mathbf{P}_j^- &=\n",
    "    \\mathbf{A}\\mathbf{P}_{j-1}\\mathbf{A}^\\mathrm{T} + \\mathbf{Q}\\nonumber\n",
    "\\end{align}$$"
   ]
  },
  {
   "cell_type": "markdown",
   "metadata": {},
   "source": [
    "### Update step\n",
    "\n",
    "$$\\begin{align}\n",
    "\\mathbf{\\tilde{y}}_j &=\n",
    "    \\mathbf{z}_j- \\mathbf{H}\\mathbf{\\hat{x}}_j^-=\n",
    "    \\mathbf{z}_j- \\mathbf{\\hat{z}}_j^-\\nonumber\\\\\n",
    "\\mathbf{S}_j &= {\\rm cov}(\\mathbf{\\tilde{y}}_j) =\n",
    "    \\mathrm{E}[\\mathbf{\\tilde{y}}_j\\mathbf{\\tilde{y}}_j^{\\rm T}]\\nonumber\\\\\n",
    "\\mathbf{K}_j &= \\mathbf{P}_j\\mathbf{H}_j^{\\rm T}\n",
    "    \\big(\\mathbf{H}\\mathbf{P}_j\\mathbf{H}_j^{\\rm T} + \\mathbf{R}\\big)^{-1}=\n",
    "    \\mathbf{P}_j^-\\mathbf{H}_j^{\\rm T}\\mathbf{S}_j^{-1}\\nonumber\\\\\n",
    "\\mathbf{\\hat{x}}_j &= \\mathbf{\\hat{x}}_j^- +\n",
    "    \\mathbf{K}_j \\mathbf{\\tilde{y}}_j\\nonumber\\\\\n",
    "\\mathbf{P}_j &=\n",
    "    \\big(\\mathbf{1} - \\mathbf{K}_j\\mathbf{H}_j\\big)\\mathbf{P}_j^-\\nonumber\n",
    "\\end{align}$$"
   ]
  },
  {
   "cell_type": "code",
   "execution_count": null,
   "metadata": {},
   "outputs": [],
   "source": []
  }
 ],
 "metadata": {
  "kernelspec": {
   "display_name": "Python 3",
   "language": "python",
   "name": "python3"
  },
  "language_info": {
   "codemirror_mode": {
    "name": "ipython",
    "version": 3
   },
   "file_extension": ".py",
   "mimetype": "text/x-python",
   "name": "python",
   "nbconvert_exporter": "python",
   "pygments_lexer": "ipython3",
   "version": "3.6.5"
  }
 },
 "nbformat": 4,
 "nbformat_minor": 2
}
